{
 "cells": [
  {
   "cell_type": "markdown",
   "metadata": {
    "application/vnd.databricks.v1+cell": {
     "inputWidgets": {},
     "nuid": "f3532250-894b-455b-b7a3-e783dc1f0c9d",
     "showTitle": false,
     "title": ""
    }
   },
   "source": [
    "**Nom Etudiant : Nassalang**  \n",
    "\n",
    "**Prenom Etudiant: Michel**  \n",
    "\n",
    "**Classe : IPSL ING3 INFO** \n",
    "\n",
    "**Date limite de dépot : 03/06/2023 avant 23h 59**\n",
    "\n",
    "**Merci de partagé le projet dans un repos Git public**\n",
    "\n",
    "\n",
    "# Travail à Faire:\n",
    "Télécharger le Datasets sur le lien Drive : https://drive.google.com/drive/folders/1DeciYELjrEoAWxahJf00rf1NHFPsiiYZ?usp=share_link  \n",
    "\n",
    "Repondre les questions ci-dessous avec le maximum de precisions et de détails.   \n",
    "Remplir `FILL_IN` avec les methodes qui correspondent à la réponse adéquate\n",
    "\n",
    "### Revenus des achats\n",
    "1. Extraire les revenus d'achat pour chaque événement\n",
    "2. Filtrer les événements dont le revenu n'est pas nul\n",
    "3. Vérifiez quels sont les types d'événements qui génèrent des revenus\n",
    "4. Supprimez la colonne inutile\n",
    "\n",
    "### Revenus par Traffic  \n",
    "Obtenir les 3 sources de trafic générant le revenu total le plus élevé.  \n",
    "5. Revenus cumulés par source de trafic  \n",
    "7. Obtenir les 3 principales sources de trafic par revenu total  \n",
    "6. Nettoyer les colonnes de revenus pour avoir deux décimales  \n",
    "8. Sauvegarder les données  \n",
    "\n",
    "### Obtenir les utilisateurs les plus actifs (active_users) par jour\n",
    "\n",
    "### Obtenir le nombre moyen d'utilisateurs actifs par jour de la semaine\n",
    "\n",
    "\n",
    "\n",
    "\n",
    "##### Methods\n",
    "- DataFrame: `select`, `drop`, `withColumn`, `filter`, `dropDuplicates`,  `groupBy`, `sort`, `limit`\n",
    "- Column: `isNotNull`, `alias`, `desc`, `cast`, `operators`"
   ]
  },
  {
   "cell_type": "code",
   "execution_count": 1,
   "metadata": {
    "application/vnd.databricks.v1+cell": {
     "inputWidgets": {},
     "nuid": "124f66d5-a758-40f9-9254-9802175a7eee",
     "showTitle": false,
     "title": ""
    }
   },
   "outputs": [
    {
     "data": {
      "text/plain": [
       "Intitializing Scala interpreter ..."
      ]
     },
     "metadata": {},
     "output_type": "display_data"
    },
    {
     "data": {
      "text/plain": [
       "Spark Web UI available at http://10.0.2.15:4040\n",
       "SparkContext available as 'sc' (version = 3.3.2, master = local[*], app id = local-1685750743215)\n",
       "SparkSession available as 'spark'\n"
      ]
     },
     "metadata": {},
     "output_type": "display_data"
    },
    {
     "name": "stdout",
     "output_type": "stream",
     "text": [
      "23/06/03 00:05:41 WARN Utils: Your hostname, mike-VirtualBox resolves to a loopback address: 127.0.1.1; using 10.0.2.15 instead (on interface enp0s3)\n",
      "23/06/03 00:05:41 WARN Utils: Set SPARK_LOCAL_IP if you need to bind to another address\n",
      "23/06/03 00:05:41 WARN NativeCodeLoader: Unable to load native-hadoop library for your platform... using builtin-java classes where applicable\n",
      "23/06/03 00:05:58 WARN SparkSession: Using an existing Spark session; only runtime SQL configurations will take effect.\n"
     ]
    },
    {
     "data": {
      "text/plain": [
       "import org.apache.spark.sql.SparkSession\n",
       "spark: org.apache.spark.sql.SparkSession = org.apache.spark.sql.SparkSession@4dec4795\n"
      ]
     },
     "execution_count": 1,
     "metadata": {},
     "output_type": "execute_result"
    }
   ],
   "source": [
    "import org.apache.spark.sql.SparkSession\n",
    "val spark = SparkSession.builder.\n",
    "                        appName(\"Projet Spark\").\n",
    "                        config(\"spark.ui.port\", \"0\").\n",
    "                        master(\"local[*]\").\n",
    "                        getOrCreate()"
   ]
  },
  {
   "cell_type": "code",
   "execution_count": 2,
   "metadata": {
    "application/vnd.databricks.v1+cell": {
     "inputWidgets": {},
     "nuid": "9e6a5343-3c8d-4b9b-9ea7-4b5897ff133b",
     "showTitle": false,
     "title": ""
    }
   },
   "outputs": [
    {
     "data": {
      "text/plain": [
       "eventsPath: String = datasets/events/events.json\n"
      ]
     },
     "execution_count": 2,
     "metadata": {},
     "output_type": "execute_result"
    }
   ],
   "source": [
    "val eventsPath = \"datasets/events/events.json\""
   ]
  },
  {
   "cell_type": "code",
   "execution_count": 3,
   "metadata": {
    "application/vnd.databricks.v1+cell": {
     "inputWidgets": {},
     "nuid": "54dcf1b1-4a15-48c7-a3bf-590499529d4a",
     "showTitle": false,
     "title": ""
    }
   },
   "outputs": [
    {
     "name": "stdout",
     "output_type": "stream",
     "text": [
      "+-------+------------------+----------+------------------------+----------------+--------------------+--------------------+--------------+--------------------------+-----------------+\n",
      "| device|         ecommerce|event_name|event_previous_timestamp| event_timestamp|                 geo|               items|traffic_source|user_first_touch_timestamp|          user_id|\n",
      "+-------+------------------+----------+------------------------+----------------+--------------------+--------------------+--------------+--------------------------+-----------------+\n",
      "|  macOS|{null, null, null}|  warranty|        1593878899217692|1593878946592107|      {Montrose, MI}|                  []|        google|          1593878899217692|UA000000107379500|\n",
      "|Windows|{null, null, null}|     press|        1593876662175340|1593877011756535|   {Northampton, MA}|                  []|        google|          1593876662175340|UA000000107359357|\n",
      "|  macOS|{null, null, null}|  add_item|        1593878792892652|1593878815459100|       {Salinas, CA}|[{null, M_STAN_T,...|       youtube|          1593878455472030|UA000000107375547|\n",
      "|    iOS|{null, null, null}|mattresses|        1593878178791663|1593878809276923|       {Everett, MA}|                  []|      facebook|          1593877903116176|UA000000107370581|\n",
      "|Windows|{null, null, null}|mattresses|                    null|1593878628143633| {Cottage Grove, MN}|                  []|        google|          1593878628143633|UA000000107377108|\n",
      "|Windows|{null, null, null}|      main|                    null|1593878634344194|        {Medina, MN}|                  []|       youtube|          1593878634344194|UA000000107377161|\n",
      "|    iOS|{null, null, null}|      main|                    null|1593877936171803|{Mount Pleasant, UT}|                  []|        direct|          1593877936171803|UA000000107370851|\n",
      "|  macOS|{null, null, null}|      main|                    null|1593876843215329|      {Piedmont, AL}|                  []|     instagram|          1593876843215329|UA000000107360961|\n",
      "|Android|{null, null, null}|  warranty|        1593878529774474|1593879213196400|{Rancho Santa Mar...|                  []|     instagram|          1593878529774474|UA000000107376205|\n",
      "|Windows|{null, null, null}|      main|                    null|1593876713246514|        {Elyria, OH}|                  []|      facebook|          1593876713246514|UA000000107359805|\n",
      "|    iOS|{null, null, null}|  original|        1593878068949001|1593878170903989|      {Longview, WA}|                  []|        google|          1593877826716812|UA000000107369909|\n",
      "|  Linux|{null, null, null}|      main|                    null|1593878036347579|     {Lyndhurst, OH}|                  []|        direct|          1593878036347579|UA000000107371743|\n",
      "|Android|{null, null, null}|      down|        1593879057792999|1593879125815755|       {Jackson, MO}|                  []|      facebook|          1593879057792999|UA000000107380961|\n",
      "|  Linux|{null, null, null}|      main|                    null|1593878672173087|  {Cedar Rapids, IA}|                  []|        google|          1593878672173087|UA000000107377487|\n",
      "|  macOS|{null, null, null}|      main|                    null|1593876429415452|       {Phoenix, AZ}|                  []|        google|          1593876429415452|UA000000107357350|\n",
      "|    iOS|{null, null, null}|mattresses|                    null|1593876687337581|       {Warwick, RI}|                  []|        google|          1593876687337581|UA000000107359573|\n",
      "|  macOS|{null, null, null}|   premium|        1593877223736871|1593877973962436|       {Everett, WA}|                  []|     instagram|          1593877223736871|UA000000107364368|\n",
      "|Windows|{null, null, null}|   reviews|        1593876442432487|1593876944661570|       {Concord, CA}|                  []|        direct|          1593876442432487|UA000000107357467|\n",
      "|    iOS|{null, null, null}|  original|        1593877781854634|1593877788141768|      {Dunwoody, GA}|                  []|        google|          1593877781854634|UA000000107369512|\n",
      "|    iOS|{null, null, null}|      main|        1593877445670953|1593877497207417|     {Rochester, MN}|                  []|      facebook|          1593877300577217|UA000000107365065|\n",
      "+-------+------------------+----------+------------------------+----------------+--------------------+--------------------+--------------+--------------------------+-----------------+\n",
      "only showing top 20 rows\n",
      "\n"
     ]
    },
    {
     "data": {
      "text/plain": [
       "eventsDF: org.apache.spark.sql.DataFrame = [device: string, ecommerce: struct<purchase_revenue_in_usd: double, total_item_quantity: bigint ... 1 more field> ... 8 more fields]\n"
      ]
     },
     "execution_count": 3,
     "metadata": {},
     "output_type": "execute_result"
    }
   ],
   "source": [
    "val eventsDF = spark.read.json(eventsPath)\n",
    "eventsDF.show()"
   ]
  },
  {
   "cell_type": "markdown",
   "metadata": {
    "application/vnd.databricks.v1+cell": {
     "inputWidgets": {},
     "nuid": "ca867dd2-4e12-40ad-a63b-4300fe236849",
     "showTitle": false,
     "title": ""
    }
   },
   "source": [
    "### 1. Extraire les revenus d'achat pour chaque événement\n",
    "Ajouter une nouvelle colonne **`revenue`** en faisant l'extration de **`ecommerce.purchase_revenue_in_usd`**"
   ]
  },
  {
   "cell_type": "code",
   "execution_count": 4,
   "metadata": {
    "application/vnd.databricks.v1+cell": {
     "inputWidgets": {},
     "nuid": "4b6760a2-7b47-4713-aed3-65db8157dbe0",
     "showTitle": false,
     "title": ""
    }
   },
   "outputs": [
    {
     "name": "stdout",
     "output_type": "stream",
     "text": [
      "+-------+------------------+----------+------------------------+----------------+--------------------+--------------------+--------------+--------------------------+-----------------+-------+\n",
      "| device|         ecommerce|event_name|event_previous_timestamp| event_timestamp|                 geo|               items|traffic_source|user_first_touch_timestamp|          user_id|revenue|\n",
      "+-------+------------------+----------+------------------------+----------------+--------------------+--------------------+--------------+--------------------------+-----------------+-------+\n",
      "|  macOS|{null, null, null}|  warranty|        1593878899217692|1593878946592107|      {Montrose, MI}|                  []|        google|          1593878899217692|UA000000107379500|   null|\n",
      "|Windows|{null, null, null}|     press|        1593876662175340|1593877011756535|   {Northampton, MA}|                  []|        google|          1593876662175340|UA000000107359357|   null|\n",
      "|  macOS|{null, null, null}|  add_item|        1593878792892652|1593878815459100|       {Salinas, CA}|[{null, M_STAN_T,...|       youtube|          1593878455472030|UA000000107375547|   null|\n",
      "|    iOS|{null, null, null}|mattresses|        1593878178791663|1593878809276923|       {Everett, MA}|                  []|      facebook|          1593877903116176|UA000000107370581|   null|\n",
      "|Windows|{null, null, null}|mattresses|                    null|1593878628143633| {Cottage Grove, MN}|                  []|        google|          1593878628143633|UA000000107377108|   null|\n",
      "|Windows|{null, null, null}|      main|                    null|1593878634344194|        {Medina, MN}|                  []|       youtube|          1593878634344194|UA000000107377161|   null|\n",
      "|    iOS|{null, null, null}|      main|                    null|1593877936171803|{Mount Pleasant, UT}|                  []|        direct|          1593877936171803|UA000000107370851|   null|\n",
      "|  macOS|{null, null, null}|      main|                    null|1593876843215329|      {Piedmont, AL}|                  []|     instagram|          1593876843215329|UA000000107360961|   null|\n",
      "|Android|{null, null, null}|  warranty|        1593878529774474|1593879213196400|{Rancho Santa Mar...|                  []|     instagram|          1593878529774474|UA000000107376205|   null|\n",
      "|Windows|{null, null, null}|      main|                    null|1593876713246514|        {Elyria, OH}|                  []|      facebook|          1593876713246514|UA000000107359805|   null|\n",
      "|    iOS|{null, null, null}|  original|        1593878068949001|1593878170903989|      {Longview, WA}|                  []|        google|          1593877826716812|UA000000107369909|   null|\n",
      "|  Linux|{null, null, null}|      main|                    null|1593878036347579|     {Lyndhurst, OH}|                  []|        direct|          1593878036347579|UA000000107371743|   null|\n",
      "|Android|{null, null, null}|      down|        1593879057792999|1593879125815755|       {Jackson, MO}|                  []|      facebook|          1593879057792999|UA000000107380961|   null|\n",
      "|  Linux|{null, null, null}|      main|                    null|1593878672173087|  {Cedar Rapids, IA}|                  []|        google|          1593878672173087|UA000000107377487|   null|\n",
      "|  macOS|{null, null, null}|      main|                    null|1593876429415452|       {Phoenix, AZ}|                  []|        google|          1593876429415452|UA000000107357350|   null|\n",
      "|    iOS|{null, null, null}|mattresses|                    null|1593876687337581|       {Warwick, RI}|                  []|        google|          1593876687337581|UA000000107359573|   null|\n",
      "|  macOS|{null, null, null}|   premium|        1593877223736871|1593877973962436|       {Everett, WA}|                  []|     instagram|          1593877223736871|UA000000107364368|   null|\n",
      "|Windows|{null, null, null}|   reviews|        1593876442432487|1593876944661570|       {Concord, CA}|                  []|        direct|          1593876442432487|UA000000107357467|   null|\n",
      "|    iOS|{null, null, null}|  original|        1593877781854634|1593877788141768|      {Dunwoody, GA}|                  []|        google|          1593877781854634|UA000000107369512|   null|\n",
      "|    iOS|{null, null, null}|      main|        1593877445670953|1593877497207417|     {Rochester, MN}|                  []|      facebook|          1593877300577217|UA000000107365065|   null|\n",
      "+-------+------------------+----------+------------------------+----------------+--------------------+--------------------+--------------+--------------------------+-----------------+-------+\n",
      "only showing top 20 rows\n",
      "\n"
     ]
    },
    {
     "data": {
      "text/plain": [
       "revenueDF: org.apache.spark.sql.DataFrame = [device: string, ecommerce: struct<purchase_revenue_in_usd: double, total_item_quantity: bigint ... 1 more field> ... 9 more fields]\n"
      ]
     },
     "execution_count": 4,
     "metadata": {},
     "output_type": "execute_result"
    }
   ],
   "source": [
    "// TODO\n",
    "val revenueDF = eventsDF.withColumn(\"revenue\", col(\"ecommerce.purchase_revenue_in_usd\"))\n",
    "revenueDF.show()"
   ]
  },
  {
   "cell_type": "markdown",
   "metadata": {
    "application/vnd.databricks.v1+cell": {
     "inputWidgets": {},
     "nuid": "0b36255e-809d-4f37-bf29-14a84fb54dbc",
     "showTitle": false,
     "title": ""
    }
   },
   "source": [
    "### 2. Filtrer les événements dont le revenu n'est pas null"
   ]
  },
  {
   "cell_type": "code",
   "execution_count": 5,
   "metadata": {
    "application/vnd.databricks.v1+cell": {
     "inputWidgets": {},
     "nuid": "c3ab4d8d-3ba9-4efe-a0b2-f64a313c52a7",
     "showTitle": false,
     "title": ""
    }
   },
   "outputs": [
    {
     "name": "stdout",
     "output_type": "stream",
     "text": [
      "+---------+--------------+----------+------------------------+----------------+--------------------+--------------------+--------------+--------------------------+-----------------+-------+\n",
      "|   device|     ecommerce|event_name|event_previous_timestamp| event_timestamp|                 geo|               items|traffic_source|user_first_touch_timestamp|          user_id|revenue|\n",
      "+---------+--------------+----------+------------------------+----------------+--------------------+--------------------+--------------+--------------------------+-----------------+-------+\n",
      "|    Linux|{1195.0, 1, 1}|  finalize|        1593878893766134|1593878897648871|       {Shawnee, KS}|[{null, M_STAN_K,...|        google|          1593876996316576|UA000000107362263| 1195.0|\n",
      "|      iOS|{1045.0, 1, 1}|  finalize|        1593878485345763|1593878487460247|       {Detroit, MI}|[{null, M_STAN_Q,...|      facebook|          1593877230282722|UA000000107364432| 1045.0|\n",
      "|  Android| {595.0, 1, 1}|  finalize|        1593877930076602|1593878966392505|  {East Chicago, IN}|[{null, M_STAN_T,...|        google|          1593876889575474|UA000000107361347|  595.0|\n",
      "|      iOS|{2290.0, 2, 2}|  finalize|        1593877650094042|1593877652106953|       {Warwick, RI}|[{null, M_PREM_F,...|        google|          1593876687337581|UA000000107359573| 2290.0|\n",
      "|    macOS| {945.0, 1, 1}|  finalize|        1593879151529456|1593879197837168|     {Boonville, MO}|[{null, M_STAN_F,...|      facebook|          1593878603312910|UA000000107376872|  945.0|\n",
      "|  Windows| {595.0, 1, 1}|  finalize|        1593877908876473|1593878020119079|       {Hampton, VA}|[{null, M_STAN_T,...|        google|          1593877033894464|UA000000107362622|  595.0|\n",
      "|  Android| {945.0, 1, 1}|  finalize|        1593878355764861|1593878641498265|{White Bear Lake,...|[{null, M_STAN_F,...|        direct|          1593877080764516|UA000000107363039|  945.0|\n",
      "|Chrome OS|{1095.0, 1, 1}|  finalize|        1593879073813036|1593879191730221|   {San Antonio, TX}|[{null, M_PREM_T,...|     instagram|          1593877153633764|UA000000107363715| 1095.0|\n",
      "|    macOS|{1045.0, 1, 1}|  finalize|        1593877425584678|1593877429621158|        {Searcy, AR}|[{null, M_STAN_Q,...|        direct|          1593876851338276|UA000000107361027| 1045.0|\n",
      "|      iOS|{1045.0, 1, 1}|  finalize|        1593878984623390|1593879046209960|     {Southport, IN}|[{null, M_STAN_Q,...|     instagram|          1593876574686487|UA000000107358614| 1045.0|\n",
      "|  Windows|{1045.0, 1, 1}|  finalize|        1593434694145790|1593434696316863|      {Columbus, OH}|[{null, M_STAN_Q,...|     instagram|          1593432259276789|UA000000106006620| 1045.0|\n",
      "|    macOS|{1640.0, 2, 2}|  finalize|        1593436589297426|1593436628314991|{St. Petersburg, FL}|[{null, M_STAN_T,...|      facebook|          1593433771174842|UA000000106011218| 1640.0|\n",
      "|Chrome OS| {654.0, 2, 2}|  finalize|        1593427561736870|1593428248499261|        {Farley, IA}|[{null, M_STAN_T,...|        google|          1593424867073851|UA000000105991167|  654.0|\n",
      "|  Windows|{1045.0, 1, 1}|  finalize|        1593388148852162|1593388365815897|       {Houston, TX}|[{null, M_STAN_Q,...|        direct|          1593383873231306|UA000000105957934| 1045.0|\n",
      "|  Windows|{1795.0, 1, 1}|  finalize|        1593399598968123|1593399696924475|        {Monroe, LA}|[{null, M_PREM_Q,...|      facebook|          1593398458152390|UA000000105978828| 1795.0|\n",
      "|  Android|{1195.0, 1, 1}|  finalize|        1593416200959556|1593416273461695|{Donaldsonville, LA}|[{null, M_STAN_K,...|        google|          1593415794401939|UA000000105983663| 1195.0|\n",
      "|      iOS|{1195.0, 1, 1}|  finalize|        1593394478371736|1593395580886846|    {Shreveport, LA}|[{null, M_STAN_K,...|        google|          1593388592209010|UA000000105968663| 1195.0|\n",
      "|      iOS|{1128.6, 2, 2}|  finalize|        1593763506976463|1593763527292050|     {San Ramon, CA}|[{NEWBED10, M_STA...|         email|          1593439553381667|UA000000106033948| 1128.6|\n",
      "|  Android|{1075.5, 1, 1}|  finalize|        1593529030162886|1593529604747277|     {La Vernia, TX}|[{NEWBED10, M_STA...|         email|          1593385351347346|UA000000105961848| 1075.5|\n",
      "|  Windows| {595.0, 1, 1}|  finalize|        1593439102031927|1593439865607689|        {Boston, MA}|[{null, M_STAN_T,...|      facebook|          1593435521455326|UA000000106017264|  595.0|\n",
      "+---------+--------------+----------+------------------------+----------------+--------------------+--------------------+--------------+--------------------------+-----------------+-------+\n",
      "only showing top 20 rows\n",
      "\n"
     ]
    },
    {
     "data": {
      "text/plain": [
       "purchasesDF: org.apache.spark.sql.Dataset[org.apache.spark.sql.Row] = [device: string, ecommerce: struct<purchase_revenue_in_usd: double, total_item_quantity: bigint ... 1 more field> ... 9 more fields]\n"
      ]
     },
     "execution_count": 5,
     "metadata": {},
     "output_type": "execute_result"
    }
   ],
   "source": [
    "// TODO\n",
    "val purchasesDF = revenueDF.filter(col(\"revenue\").isNotNull)\n",
    "purchasesDF.show()"
   ]
  },
  {
   "cell_type": "markdown",
   "metadata": {
    "application/vnd.databricks.v1+cell": {
     "inputWidgets": {},
     "nuid": "8c7799f6-4668-47fe-ad11-2d95fb42f3cd",
     "showTitle": false,
     "title": ""
    }
   },
   "source": [
    "### 3. Vérifiez quels sont les types d'événements qui génèrent des revenus\n",
    "Trouvez des valeurs **`event_name`** uniques dans **`purchasesDF`**. Il y a deux façons de faire :\n",
    "- Sélectionnez \"event_name\" et recupérer les enregistrements distincts"
   ]
  },
  {
   "cell_type": "code",
   "execution_count": 6,
   "metadata": {
    "application/vnd.databricks.v1+cell": {
     "inputWidgets": {},
     "nuid": "9be33ae8-08e1-4f11-901a-d11f94d1a2a3",
     "showTitle": false,
     "title": ""
    }
   },
   "outputs": [
    {
     "name": "stdout",
     "output_type": "stream",
     "text": [
      "+----------+\n",
      "|event_name|\n",
      "+----------+\n",
      "|  finalize|\n",
      "+----------+\n",
      "\n"
     ]
    },
    {
     "data": {
      "text/plain": [
       "distinctDF: org.apache.spark.sql.Dataset[org.apache.spark.sql.Row] = [event_name: string]\n"
      ]
     },
     "execution_count": 6,
     "metadata": {},
     "output_type": "execute_result"
    }
   ],
   "source": [
    "// TODO\n",
    "val distinctDF = purchasesDF.select(\"event_name\").distinct()\n",
    "distinctDF.show"
   ]
  },
  {
   "cell_type": "markdown",
   "metadata": {
    "application/vnd.databricks.v1+cell": {
     "inputWidgets": {},
     "nuid": "da232f23-514c-4423-975f-20162fec0cb9",
     "showTitle": false,
     "title": ""
    }
   },
   "source": [
    "### 4. Supprimez la colonne inutile\n",
    "Puisqu'il n'y a qu'un seul type d'événement, supprimez **`event_name`** de **`purchasesDF`**."
   ]
  },
  {
   "cell_type": "code",
   "execution_count": 7,
   "metadata": {
    "application/vnd.databricks.v1+cell": {
     "inputWidgets": {},
     "nuid": "cff64c80-f082-408f-8ad2-50abd75d2f75",
     "showTitle": false,
     "title": ""
    }
   },
   "outputs": [
    {
     "name": "stdout",
     "output_type": "stream",
     "text": [
      "+---------+--------------+------------------------+----------------+--------------------+--------------------+--------------+--------------------------+-----------------+-------+\n",
      "|   device|     ecommerce|event_previous_timestamp| event_timestamp|                 geo|               items|traffic_source|user_first_touch_timestamp|          user_id|revenue|\n",
      "+---------+--------------+------------------------+----------------+--------------------+--------------------+--------------+--------------------------+-----------------+-------+\n",
      "|    Linux|{1195.0, 1, 1}|        1593878893766134|1593878897648871|       {Shawnee, KS}|[{null, M_STAN_K,...|        google|          1593876996316576|UA000000107362263| 1195.0|\n",
      "|      iOS|{1045.0, 1, 1}|        1593878485345763|1593878487460247|       {Detroit, MI}|[{null, M_STAN_Q,...|      facebook|          1593877230282722|UA000000107364432| 1045.0|\n",
      "|  Android| {595.0, 1, 1}|        1593877930076602|1593878966392505|  {East Chicago, IN}|[{null, M_STAN_T,...|        google|          1593876889575474|UA000000107361347|  595.0|\n",
      "|      iOS|{2290.0, 2, 2}|        1593877650094042|1593877652106953|       {Warwick, RI}|[{null, M_PREM_F,...|        google|          1593876687337581|UA000000107359573| 2290.0|\n",
      "|    macOS| {945.0, 1, 1}|        1593879151529456|1593879197837168|     {Boonville, MO}|[{null, M_STAN_F,...|      facebook|          1593878603312910|UA000000107376872|  945.0|\n",
      "|  Windows| {595.0, 1, 1}|        1593877908876473|1593878020119079|       {Hampton, VA}|[{null, M_STAN_T,...|        google|          1593877033894464|UA000000107362622|  595.0|\n",
      "|  Android| {945.0, 1, 1}|        1593878355764861|1593878641498265|{White Bear Lake,...|[{null, M_STAN_F,...|        direct|          1593877080764516|UA000000107363039|  945.0|\n",
      "|Chrome OS|{1095.0, 1, 1}|        1593879073813036|1593879191730221|   {San Antonio, TX}|[{null, M_PREM_T,...|     instagram|          1593877153633764|UA000000107363715| 1095.0|\n",
      "|    macOS|{1045.0, 1, 1}|        1593877425584678|1593877429621158|        {Searcy, AR}|[{null, M_STAN_Q,...|        direct|          1593876851338276|UA000000107361027| 1045.0|\n",
      "|      iOS|{1045.0, 1, 1}|        1593878984623390|1593879046209960|     {Southport, IN}|[{null, M_STAN_Q,...|     instagram|          1593876574686487|UA000000107358614| 1045.0|\n",
      "|  Windows|{1045.0, 1, 1}|        1593434694145790|1593434696316863|      {Columbus, OH}|[{null, M_STAN_Q,...|     instagram|          1593432259276789|UA000000106006620| 1045.0|\n",
      "|    macOS|{1640.0, 2, 2}|        1593436589297426|1593436628314991|{St. Petersburg, FL}|[{null, M_STAN_T,...|      facebook|          1593433771174842|UA000000106011218| 1640.0|\n",
      "|Chrome OS| {654.0, 2, 2}|        1593427561736870|1593428248499261|        {Farley, IA}|[{null, M_STAN_T,...|        google|          1593424867073851|UA000000105991167|  654.0|\n",
      "|  Windows|{1045.0, 1, 1}|        1593388148852162|1593388365815897|       {Houston, TX}|[{null, M_STAN_Q,...|        direct|          1593383873231306|UA000000105957934| 1045.0|\n",
      "|  Windows|{1795.0, 1, 1}|        1593399598968123|1593399696924475|        {Monroe, LA}|[{null, M_PREM_Q,...|      facebook|          1593398458152390|UA000000105978828| 1795.0|\n",
      "|  Android|{1195.0, 1, 1}|        1593416200959556|1593416273461695|{Donaldsonville, LA}|[{null, M_STAN_K,...|        google|          1593415794401939|UA000000105983663| 1195.0|\n",
      "|      iOS|{1195.0, 1, 1}|        1593394478371736|1593395580886846|    {Shreveport, LA}|[{null, M_STAN_K,...|        google|          1593388592209010|UA000000105968663| 1195.0|\n",
      "|      iOS|{1128.6, 2, 2}|        1593763506976463|1593763527292050|     {San Ramon, CA}|[{NEWBED10, M_STA...|         email|          1593439553381667|UA000000106033948| 1128.6|\n",
      "|  Android|{1075.5, 1, 1}|        1593529030162886|1593529604747277|     {La Vernia, TX}|[{NEWBED10, M_STA...|         email|          1593385351347346|UA000000105961848| 1075.5|\n",
      "|  Windows| {595.0, 1, 1}|        1593439102031927|1593439865607689|        {Boston, MA}|[{null, M_STAN_T,...|      facebook|          1593435521455326|UA000000106017264|  595.0|\n",
      "+---------+--------------+------------------------+----------------+--------------------+--------------------+--------------+--------------------------+-----------------+-------+\n",
      "only showing top 20 rows\n",
      "\n"
     ]
    },
    {
     "data": {
      "text/plain": [
       "cleanDF: org.apache.spark.sql.DataFrame = [device: string, ecommerce: struct<purchase_revenue_in_usd: double, total_item_quantity: bigint ... 1 more field> ... 8 more fields]\n"
      ]
     },
     "execution_count": 7,
     "metadata": {},
     "output_type": "execute_result"
    }
   ],
   "source": [
    "// TODO\n",
    "val cleanDF = purchasesDF.drop(\"event_name\")\n",
    "cleanDF.show"
   ]
  },
  {
   "cell_type": "markdown",
   "metadata": {
    "application/vnd.databricks.v1+cell": {
     "inputWidgets": {},
     "nuid": "c9ca35ef-7fa1-4259-b7cc-59a42a7e3fdc",
     "showTitle": false,
     "title": ""
    }
   },
   "source": [
    "### 5. Revenus cumulés par source de trafic\n",
    "- Obtenir la somme de **`revenue`** comme **`total_rev`**\n",
    "- Obtenir la moyenne de **`revenue`** comme **`avg_rev`**\n",
    "\n",
    "N'oubliez pas d'importer toutes les fonctions intégrées nécessaires."
   ]
  },
  {
   "cell_type": "code",
   "execution_count": 8,
   "metadata": {
    "application/vnd.databricks.v1+cell": {
     "inputWidgets": {},
     "nuid": "bd64d109-4513-48f9-b5b4-85f4ef6b1b0d",
     "showTitle": false,
     "title": ""
    }
   },
   "outputs": [
    {
     "name": "stdout",
     "output_type": "stream",
     "text": [
      "+---------+--------------+------------------------+----------------+--------------------+--------------------+--------------+--------------------------+-----------------+-------+------------------+------------------+\n",
      "|   device|     ecommerce|event_previous_timestamp| event_timestamp|                 geo|               items|traffic_source|user_first_touch_timestamp|          user_id|revenue|         total_rev|           avg_rev|\n",
      "+---------+--------------+------------------------+----------------+--------------------+--------------------+--------------+--------------------------+-----------------+-------+------------------+------------------+\n",
      "|  Android| {945.0, 1, 1}|        1593878355764861|1593878641498265|{White Bear Lake,...|[{null, M_STAN_F,...|        direct|          1593877080764516|UA000000107363039|  945.0|             945.0|             945.0|\n",
      "|    macOS|{1045.0, 1, 1}|        1593877425584678|1593877429621158|        {Searcy, AR}|[{null, M_STAN_Q,...|        direct|          1593876851338276|UA000000107361027| 1045.0|            1990.0|             995.0|\n",
      "|  Windows|{1045.0, 1, 1}|        1593388148852162|1593388365815897|       {Houston, TX}|[{null, M_STAN_Q,...|        direct|          1593383873231306|UA000000105957934| 1045.0|            3035.0|1011.6666666666666|\n",
      "|Chrome OS|{1095.0, 1, 1}|        1593442333558408|1593443715762194|    {Boise City, ID}|[{null, M_PREM_T,...|        direct|          1593436999873934|UA000000106022956| 1095.0|            4130.0|            1032.5|\n",
      "|      iOS|{1195.0, 1, 1}|        1593442096705024|1593442341563998|     {Los Banos, CA}|[{null, M_STAN_K,...|        direct|          1593439561396710|UA000000106033987| 1195.0|            5325.0|            1065.0|\n",
      "|    macOS| {945.0, 1, 1}|        1593395647422677|1593395664864170|       {Houston, TX}|[{null, M_STAN_F,...|        direct|          1593393238539327|UA000000105975077|  945.0|            6270.0|            1045.0|\n",
      "|    Linux|{1045.0, 1, 1}|        1593437956220189|1593438119530989|   {San Antonio, TX}|[{null, M_STAN_Q,...|        direct|          1593437081074207|UA000000106023300| 1045.0|            7315.0|            1045.0|\n",
      "|  Windows|{1814.0, 2, 2}|        1593444396627840|1593444490658617|  {Battle Creek, MI}|[{null, M_PREM_F,...|        direct|          1593442417272800|UA000000106047738| 1814.0|            9129.0|          1141.125|\n",
      "|      iOS|{1128.6, 2, 2}|        1593763506976463|1593763527292050|     {San Ramon, CA}|[{NEWBED10, M_STA...|         email|          1593439553381667|UA000000106033948| 1128.6|            1128.6|            1128.6|\n",
      "|  Android|{1075.5, 1, 1}|        1593529030162886|1593529604747277|     {La Vernia, TX}|[{NEWBED10, M_STA...|         email|          1593385351347346|UA000000105961848| 1075.5|            2204.1|           1102.05|\n",
      "|  Windows|{1075.5, 1, 1}|        1593858693657562|1593858705659631|   {Los Angeles, CA}|[{NEWBED10, M_STA...|         email|          1593427622990052|UA000000105995587| 1075.5|            3279.6|            1093.2|\n",
      "|    macOS| {535.5, 1, 1}|        1593611214229026|1593611795702130|      {New York, NY}|[{NEWBED10, M_STA...|         email|          1593393725287619|UA000000105975577|  535.5|            3815.1|           953.775|\n",
      "|Chrome OS| {940.5, 1, 1}|        1593709259204898|1593709381749247|   {Jerseyville, IL}|[{NEWBED10, M_STA...|         email|          1593442573796868|UA000000106048566|  940.5|            4755.6| 951.1200000000001|\n",
      "|  Android| {940.5, 1, 1}|        1593697120869461|1593697123927787|         {Ocala, FL}|[{NEWBED10, M_STA...|         email|          1593442483109873|UA000000106048096|  940.5|            5696.1|            949.35|\n",
      "|    Linux| {535.5, 1, 1}|        1593842072895873|1593842076402323|{Greenfield Town,...|[{NEWBED10, M_STA...|         email|          1593443551453706|UA000000106053771|  535.5|            6231.6| 890.2285714285715|\n",
      "|  Android|{1128.6, 2, 2}|        1593638140965008|1593639420785107|         {Ogden, UT}|[{NEWBED10, M_STA...|         email|          1593429180966649|UA000000105998839| 1128.6| 7360.200000000001| 920.0250000000001|\n",
      "|      iOS|{1615.5, 1, 1}|        1593733836357636|1593735143475431|        {Eugene, OR}|[{NEWBED10, M_PRE...|         email|          1593431170899022|UA000000106003703| 1615.5|            8975.7| 997.3000000000001|\n",
      "|  Windows| {850.5, 1, 1}|        1593686755639051|1593687535478236|       {Spokane, WA}|[{NEWBED10, M_STA...|         email|          1593441450045676|UA000000106042951|  850.5|            9826.2| 982.6200000000001|\n",
      "|    Linux| {940.5, 1, 1}|        1593707078573205|1593707093014353|       {Saginaw, MI}|[{NEWBED10, M_STA...|         email|          1593436447127988|UA000000106020747|  940.5|           10766.7| 978.7909090909092|\n",
      "|  Android| {921.6, 2, 2}|        1593717331776881|1593717333954000|       {Jackson, MS}|[{NEWBED10, M_STA...|         email|          1593437777572307|UA000000106026086|  921.6|11688.300000000001| 974.0250000000001|\n",
      "+---------+--------------+------------------------+----------------+--------------------+--------------------+--------------+--------------------------+-----------------+-------+------------------+------------------+\n",
      "only showing top 20 rows\n",
      "\n"
     ]
    },
    {
     "data": {
      "text/plain": [
       "import org.apache.spark.sql.expressions.Window\n",
       "import org.apache.spark.sql.functions._\n",
       "windowSpec: org.apache.spark.sql.expressions.WindowSpec = org.apache.spark.sql.expressions.WindowSpec@67b74998\n",
       "trafficDF: org.apache.spark.sql.DataFrame = [device: string, ecommerce: struct<purchase_revenue_in_usd: double, total_item_quantity: bigint ... 1 more field> ... 10 more fields]\n"
      ]
     },
     "execution_count": 8,
     "metadata": {},
     "output_type": "execute_result"
    }
   ],
   "source": [
    "// TODO\n",
    "import org.apache.spark.sql.expressions.Window\n",
    "import org.apache.spark.sql.functions._\n",
    "val windowSpec = Window.partitionBy(\"traffic_source\").orderBy(\"traffic_source\").rowsBetween(Window.unboundedPreceding, Window.currentRow)\n",
    "val trafficDF = cleanDF.withColumn(\"total_rev\", sum(col(\"revenue\")).over(windowSpec))\n",
    "                .withColumn(\"avg_rev\", avg(col(\"revenue\")).over(windowSpec))\n",
    "trafficDF.show()"
   ]
  },
  {
   "cell_type": "markdown",
   "metadata": {
    "application/vnd.databricks.v1+cell": {
     "inputWidgets": {},
     "nuid": "752ce304-d2e1-47f5-acd0-d5a30183bf19",
     "showTitle": false,
     "title": ""
    }
   },
   "source": [
    "### 6. Obtenir les cinqs principales sources de trafic par revenu total"
   ]
  },
  {
   "cell_type": "code",
   "execution_count": 9,
   "metadata": {
    "application/vnd.databricks.v1+cell": {
     "inputWidgets": {},
     "nuid": "89de0a73-924d-4b55-8ed2-9b936dabc496",
     "showTitle": false,
     "title": ""
    }
   },
   "outputs": [
    {
     "name": "stdout",
     "output_type": "stream",
     "text": [
      "+--------------+---------+-----------------+\n",
      "|traffic_source|total_rev|          avg_rev|\n",
      "+--------------+---------+-----------------+\n",
      "|         email|  36935.4|998.2540540540541|\n",
      "|        google|  28936.0|964.5333333333333|\n",
      "|      facebook|  12952.0|996.3076923076923|\n",
      "|        direct|   9129.0|         1141.125|\n",
      "|     instagram|   8160.0|           1020.0|\n",
      "+--------------+---------+-----------------+\n",
      "\n"
     ]
    },
    {
     "data": {
      "text/plain": [
       "topTrafficDF: org.apache.spark.sql.Dataset[org.apache.spark.sql.Row] = [traffic_source: string, total_rev: double ... 1 more field]\n"
      ]
     },
     "execution_count": 9,
     "metadata": {},
     "output_type": "execute_result"
    }
   ],
   "source": [
    "//TODO\n",
    "val topTrafficDF = trafficDF.groupBy(\"traffic_source\")\n",
    "                    .agg(sum(\"revenue\").as(\"total_rev\"), avg(\"revenue\").as(\"avg_rev\"))\n",
    "                    .orderBy(desc(\"total_rev\")).limit(5)\n",
    "topTrafficDF.show()"
   ]
  },
  {
   "cell_type": "markdown",
   "metadata": {
    "application/vnd.databricks.v1+cell": {
     "inputWidgets": {},
     "nuid": "e46516b0-0637-47c4-a29d-58b32c8760db",
     "showTitle": false,
     "title": ""
    }
   },
   "source": [
    "### 7. Limitez les colonnes de revenus à deux décimales pointés\n",
    "- Modifier les colonnes **`avg_rev`** et **`total_rev`** pour les convertir en des nombres avec deux décimales pointés"
   ]
  },
  {
   "cell_type": "code",
   "execution_count": 10,
   "metadata": {
    "application/vnd.databricks.v1+cell": {
     "inputWidgets": {},
     "nuid": "9660408e-252d-4b78-a6e6-e3028640f4b0",
     "showTitle": false,
     "title": ""
    }
   },
   "outputs": [
    {
     "name": "stdout",
     "output_type": "stream",
     "text": [
      "+--------------+---------+-------+\n",
      "|traffic_source|total_rev|avg_rev|\n",
      "+--------------+---------+-------+\n",
      "|         email|  36935.4| 998.25|\n",
      "|        google|  28936.0| 964.53|\n",
      "|      facebook|  12952.0| 996.31|\n",
      "|        direct|   9129.0|1141.13|\n",
      "|     instagram|   8160.0| 1020.0|\n",
      "+--------------+---------+-------+\n",
      "\n"
     ]
    },
    {
     "data": {
      "text/plain": [
       "finalDF: org.apache.spark.sql.DataFrame = [traffic_source: string, total_rev: double ... 1 more field]\n"
      ]
     },
     "execution_count": 10,
     "metadata": {},
     "output_type": "execute_result"
    }
   ],
   "source": [
    "// TODO\n",
    "val finalDF = topTrafficDF\n",
    "          .withColumn(\"total_rev\", round(col(\"total_rev\"), 2))\n",
    "            .withColumn(\"avg_rev\", round(col(\"avg_rev\"), 2))\n",
    "finalDF.show()"
   ]
  },
  {
   "cell_type": "markdown",
   "metadata": {
    "application/vnd.databricks.v1+cell": {
     "inputWidgets": {},
     "nuid": "d5a1355c-e00e-4d31-a7bc-0661051fcb97",
     "showTitle": false,
     "title": ""
    }
   },
   "source": [
    "### 8. Sauvegarder les données \n",
    "Sauvegarder les données sous le format parquet"
   ]
  },
  {
   "cell_type": "code",
   "execution_count": 11,
   "metadata": {
    "application/vnd.databricks.v1+cell": {
     "inputWidgets": {},
     "nuid": "a5515ca2-6f91-4337-b949-0a0a3ed713cf",
     "showTitle": false,
     "title": ""
    }
   },
   "outputs": [],
   "source": [
    "// TODO\n",
    "finalDF.write.format(\"parquet\").save(\"datasets/events/final\")"
   ]
  },
  {
   "cell_type": "markdown",
   "metadata": {},
   "source": [
    "### 9. Obtenir les utilisateurs les plus actifs (active_users) par jour"
   ]
  },
  {
   "cell_type": "code",
   "execution_count": 12,
   "metadata": {},
   "outputs": [
    {
     "name": "stdout",
     "output_type": "stream",
     "text": [
      "root\n",
      " |-- device: string (nullable = true)\n",
      " |-- ecommerce: struct (nullable = true)\n",
      " |    |-- purchase_revenue_in_usd: double (nullable = true)\n",
      " |    |-- total_item_quantity: long (nullable = true)\n",
      " |    |-- unique_items: long (nullable = true)\n",
      " |-- event_name: string (nullable = true)\n",
      " |-- event_previous_timestamp: long (nullable = true)\n",
      " |-- event_timestamp: long (nullable = true)\n",
      " |-- geo: struct (nullable = true)\n",
      " |    |-- city: string (nullable = true)\n",
      " |    |-- state: string (nullable = true)\n",
      " |-- items: array (nullable = true)\n",
      " |    |-- element: struct (containsNull = true)\n",
      " |    |    |-- coupon: string (nullable = true)\n",
      " |    |    |-- item_id: string (nullable = true)\n",
      " |    |    |-- item_name: string (nullable = true)\n",
      " |    |    |-- item_revenue_in_usd: double (nullable = true)\n",
      " |    |    |-- price_in_usd: double (nullable = true)\n",
      " |    |    |-- quantity: long (nullable = true)\n",
      " |-- traffic_source: string (nullable = true)\n",
      " |-- user_first_touch_timestamp: long (nullable = true)\n",
      " |-- user_id: string (nullable = true)\n",
      "\n"
     ]
    }
   ],
   "source": [
    "eventsDF.printSchema"
   ]
  },
  {
   "cell_type": "code",
   "execution_count": 13,
   "metadata": {},
   "outputs": [
    {
     "name": "stdout",
     "output_type": "stream",
     "text": [
      "+-----------------+-----------+\n",
      "|          user_id|event_count|\n",
      "+-----------------+-----------+\n",
      "|UA000000107374813|          3|\n",
      "|UA000000107364649|          3|\n",
      "|UA000000107375329|          3|\n",
      "|UA000000107363587|          2|\n",
      "|UA000000107370340|          2|\n",
      "|UA000000105968089|          2|\n",
      "|UA000000107372186|          2|\n",
      "|UA000000107372648|          2|\n",
      "|UA000000107380727|          2|\n",
      "|UA000000107362448|          2|\n",
      "|UA000000107368592|          2|\n",
      "|UA000000107358771|          2|\n",
      "|UA000000107362759|          2|\n",
      "|UA000000107366119|          2|\n",
      "|UA000000106037566|          2|\n",
      "|UA000000107359457|          2|\n",
      "|UA000000107369224|          2|\n",
      "|UA000000107378659|          2|\n",
      "|UA000000107366543|          2|\n",
      "|UA000000105991241|          2|\n",
      "+-----------------+-----------+\n",
      "only showing top 20 rows\n",
      "\n"
     ]
    },
    {
     "data": {
      "text/plain": [
       "activeUsersDF: org.apache.spark.sql.Dataset[org.apache.spark.sql.Row] = [user_id: string, event_count: bigint]\n"
      ]
     },
     "execution_count": 13,
     "metadata": {},
     "output_type": "execute_result"
    }
   ],
   "source": [
    "// On a filtré les utilisateurs qui ont leur dernière activité le jour de l'activité de l'évenement\n",
    "val activeUsersDF = eventsDF.filter(($\"event_timestamp\"-$\"event_previous_timestamp\")<=86400000)\n",
    "                    .groupBy(\"user_id\")\n",
    "                    .agg(count(\"user_id\").as(\"event_count\"))\n",
    "                    .orderBy(desc(\"event_count\"))\n",
    "activeUsersDF.show()"
   ]
  },
  {
   "cell_type": "markdown",
   "metadata": {},
   "source": [
    "### 10. Obtenir le nombre moyen d'utilisateurs actifs par jour de la semaine "
   ]
  },
  {
   "cell_type": "code",
   "execution_count": 14,
   "metadata": {},
   "outputs": [
    {
     "name": "stdout",
     "output_type": "stream",
     "text": [
      "+-----------------+-------------+\n",
      "|          user_id|mean_activity|\n",
      "+-----------------+-------------+\n",
      "|UA000000107363145|          1.0|\n",
      "|UA000000107377543|          1.0|\n",
      "|UA000000107371965|          1.0|\n",
      "|UA000000105985370|          1.0|\n",
      "|UA000000105959746|          1.0|\n",
      "|UA000000107365893|          1.0|\n",
      "|UA000000107362842|          1.0|\n",
      "|UA000000107366227|          1.0|\n",
      "|UA000000106051107|          1.0|\n",
      "|UA000000106031398|          1.0|\n",
      "|UA000000106010296|          1.0|\n",
      "|UA000000105967632|          1.0|\n",
      "|UA000000106034146|          1.0|\n",
      "|UA000000107380961|          1.0|\n",
      "|UA000000107369459|          1.0|\n",
      "|UA000000107367073|          1.0|\n",
      "|UA000000107374121|          1.0|\n",
      "|UA000000107368180|          1.0|\n",
      "|UA000000107364348|          1.0|\n",
      "|UA000000107374416|          1.0|\n",
      "+-----------------+-------------+\n",
      "only showing top 20 rows\n",
      "\n"
     ]
    },
    {
     "data": {
      "text/plain": [
       "activeDowDF: org.apache.spark.sql.DataFrame = [user_id: string, mean_activity: double]\n"
      ]
     },
     "execution_count": 14,
     "metadata": {},
     "output_type": "execute_result"
    }
   ],
   "source": [
    "// J'ai essayé de convertir les timestamp en date normale pour recupérer la date mais ca n'a pas marcher du coup j'ai vraiment plus de solution\n",
    "val activeDowDF = activeUsersDF.groupBy(\"user_id\")\n",
    "                    .agg(avg(\"event_count\").as(\"mean_activity\"))\n",
    "activeDowDF.show()"
   ]
  },
  {
   "cell_type": "markdown",
   "metadata": {
    "tags": []
   },
   "source": [
    "### 11. Sauvegarder les données \n",
    "Sauvegarder les données sous le format parquet"
   ]
  },
  {
   "cell_type": "code",
   "execution_count": 15,
   "metadata": {},
   "outputs": [],
   "source": [
    "activeDowDF.write.format(\"parquet\").save(\"datasets/events/activ_users\")"
   ]
  },
  {
   "cell_type": "markdown",
   "metadata": {},
   "source": [
    "### 12. Industrialiser et Deployer le code source dans le cluster Hadoop  \n",
    "En s'appuyant sur le code source https://drive.google.com/drive/folders/1DeciYELjrEoAWxahJf00rf1NHFPsiiYZ?usp=share_link, industrialiser ce notebook en code Spark et le déployer job en mode cluster dans HadoopVagrant en stockant le dataframe final dans Hive en format parquet"
   ]
  },
  {
   "cell_type": "code",
   "execution_count": null,
   "metadata": {},
   "outputs": [],
   "source": []
  }
 ],
 "metadata": {
  "application/vnd.databricks.v1+notebook": {
   "dashboards": [],
   "language": "python",
   "notebookMetadata": {
    "pythonIndentUnit": 2
   },
   "notebookName": "Examen Rattrapage  Big Data ISI",
   "notebookOrigID": 2952678889524244,
   "widgets": {}
  },
  "kernelspec": {
   "display_name": "spylon-kernel",
   "language": "scala",
   "name": "spylon-kernel"
  },
  "language_info": {
   "codemirror_mode": "text/x-scala",
   "file_extension": ".scala",
   "help_links": [
    {
     "text": "MetaKernel Magics",
     "url": "https://metakernel.readthedocs.io/en/latest/source/README.html"
    }
   ],
   "mimetype": "text/x-scala",
   "name": "scala",
   "pygments_lexer": "scala",
   "version": "0.4.1"
  }
 },
 "nbformat": 4,
 "nbformat_minor": 4
}
